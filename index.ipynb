{
 "cells": [
  {
   "cell_type": "markdown",
   "metadata": {},
   "source": [
    "# Introduction to Cross-Validation - Lab\n",
    "\n",
    "## Introduction\n",
    "\n",
    "In this lab, you'll be able to practice your cross-validation skills!\n",
    "\n",
    "\n",
    "## Objectives\n",
    "\n",
    "You will be able to:\n",
    "\n",
    "- Perform cross validation on a model to determine optimal model performance\n",
    "- Compare training and testing errors to determine if model is over or underfitting"
   ]
  },
  {
   "cell_type": "markdown",
   "metadata": {},
   "source": [
    "## Let's get started\n",
    "\n",
    "This time, let's only include the variables that were previously selected using recursive feature elimination. We included the code to pre-process below."
   ]
  },
  {
   "cell_type": "code",
   "execution_count": 1,
   "metadata": {
    "ExecuteTime": {
     "end_time": "2020-04-17T23:20:59.029413Z",
     "start_time": "2020-04-17T23:20:56.234530Z"
    }
   },
   "outputs": [],
   "source": [
    "import pandas as pd\n",
    "import numpy as np\n",
    "import matplotlib.pyplot as plt\n",
    "%matplotlib inline\n",
    "from sklearn.datasets import load_boston\n",
    "\n",
    "boston = load_boston()\n",
    "\n",
    "boston_features = pd.DataFrame(boston.data, columns = boston.feature_names)\n",
    "b = boston_features['B']\n",
    "logdis = np.log(boston_features['DIS'])\n",
    "loglstat = np.log(boston_features['LSTAT'])\n",
    "\n",
    "# Min-Max scaling\n",
    "boston_features['B'] = (b-min(b))/(max(b)-min(b))\n",
    "boston_features['DIS'] = (logdis-min(logdis))/(max(logdis)-min(logdis))\n",
    "\n",
    "# Standardization\n",
    "boston_features['LSTAT'] = (loglstat-np.mean(loglstat))/np.sqrt(np.var(loglstat))"
   ]
  },
  {
   "cell_type": "code",
   "execution_count": 2,
   "metadata": {
    "ExecuteTime": {
     "end_time": "2020-04-17T23:20:59.147114Z",
     "start_time": "2020-04-17T23:20:59.136017Z"
    }
   },
   "outputs": [
    {
     "data": {
      "text/plain": [
       "pandas.core.frame.DataFrame"
      ]
     },
     "execution_count": 2,
     "metadata": {},
     "output_type": "execute_result"
    }
   ],
   "source": [
    "X = boston_features[['CHAS', 'RM', 'DIS', 'B', 'LSTAT']]\n",
    "y = pd.DataFrame(boston.target, columns = ['target'])\n",
    "type(X)"
   ]
  },
  {
   "cell_type": "markdown",
   "metadata": {},
   "source": [
    "### Train-test split\n",
    "\n",
    "Perform a train-test split with a test set of 20%."
   ]
  },
  {
   "cell_type": "code",
   "execution_count": 3,
   "metadata": {
    "ExecuteTime": {
     "end_time": "2020-04-17T23:21:52.894194Z",
     "start_time": "2020-04-17T23:21:52.844758Z"
    }
   },
   "outputs": [],
   "source": [
    "# Import train_test_split from sklearn.model_selection\n",
    "from sklearn.model_selection import train_test_split"
   ]
  },
  {
   "cell_type": "code",
   "execution_count": 6,
   "metadata": {
    "ExecuteTime": {
     "end_time": "2020-04-17T23:22:49.493907Z",
     "start_time": "2020-04-17T23:22:49.487412Z"
    }
   },
   "outputs": [],
   "source": [
    "# Split the data into training and test sets (assign 20% to test set)\n",
    "X_train, X_test, y_train, y_test = train_test_split(X, y, test_size=0.2)"
   ]
  },
  {
   "cell_type": "code",
   "execution_count": 7,
   "metadata": {
    "ExecuteTime": {
     "end_time": "2020-04-17T23:22:50.280182Z",
     "start_time": "2020-04-17T23:22:50.274438Z"
    }
   },
   "outputs": [
    {
     "name": "stdout",
     "output_type": "stream",
     "text": [
      "404 102 404 102\n"
     ]
    }
   ],
   "source": [
    "# A brief preview of train-test split\n",
    "print(len(X_train), len(X_test), len(y_train), len(y_test))"
   ]
  },
  {
   "cell_type": "markdown",
   "metadata": {},
   "source": [
    "### Fit the model"
   ]
  },
  {
   "cell_type": "markdown",
   "metadata": {},
   "source": [
    "Fit a linear regression model and apply the model to make predictions on test set"
   ]
  },
  {
   "cell_type": "code",
   "execution_count": 8,
   "metadata": {
    "ExecuteTime": {
     "end_time": "2020-04-17T23:23:32.402674Z",
     "start_time": "2020-04-17T23:23:32.327889Z"
    }
   },
   "outputs": [],
   "source": [
    "from sklearn.linear_model import LinearRegression"
   ]
  },
  {
   "cell_type": "code",
   "execution_count": 9,
   "metadata": {
    "ExecuteTime": {
     "end_time": "2020-04-17T23:23:59.092499Z",
     "start_time": "2020-04-17T23:23:59.069962Z"
    }
   },
   "outputs": [
    {
     "data": {
      "text/plain": [
       "LinearRegression(copy_X=True, fit_intercept=True, n_jobs=None, normalize=False)"
      ]
     },
     "execution_count": 9,
     "metadata": {},
     "output_type": "execute_result"
    }
   ],
   "source": [
    "linreg = LinearRegression()\n",
    "linreg.fit(X_train, y_train)"
   ]
  },
  {
   "cell_type": "code",
   "execution_count": 10,
   "metadata": {
    "ExecuteTime": {
     "end_time": "2020-04-17T23:25:23.934743Z",
     "start_time": "2020-04-17T23:25:23.928785Z"
    }
   },
   "outputs": [],
   "source": [
    "y_hat_train = linreg.predict(X_train)\n",
    "y_hat_test = linreg.predict(X_test)"
   ]
  },
  {
   "cell_type": "markdown",
   "metadata": {},
   "source": [
    "### Residuals and MSE"
   ]
  },
  {
   "cell_type": "markdown",
   "metadata": {},
   "source": [
    "Calculate the residuals and the mean squared error on the test set"
   ]
  },
  {
   "cell_type": "code",
   "execution_count": 11,
   "metadata": {
    "ExecuteTime": {
     "end_time": "2020-04-17T23:26:22.178458Z",
     "start_time": "2020-04-17T23:26:22.170122Z"
    }
   },
   "outputs": [
    {
     "name": "stdout",
     "output_type": "stream",
     "text": [
      "Training MSE 21.948229964237374\n",
      "Test MSE 21.114400087117502\n"
     ]
    }
   ],
   "source": [
    "from sklearn.metrics import mean_squared_error\n",
    "train_mse = mean_squared_error(y_train, y_hat_train)\n",
    "test_mse = mean_squared_error(y_test, y_hat_test)\n",
    "print(f'Training MSE {train_mse}')\n",
    "print(f'Test MSE {test_mse}')"
   ]
  },
  {
   "cell_type": "markdown",
   "metadata": {},
   "source": [
    "## Cross-Validation: let's build it from scratch!"
   ]
  },
  {
   "cell_type": "markdown",
   "metadata": {},
   "source": [
    "### Create a cross-validation function"
   ]
  },
  {
   "cell_type": "markdown",
   "metadata": {},
   "source": [
    "Write a function `kfolds()` that splits a dataset into k evenly sized pieces. If the full dataset is not divisible by k, make the first few folds one larger then later ones.\n",
    "\n",
    "We want the folds to be a list of subsets of data!"
   ]
  },
  {
   "cell_type": "code",
   "execution_count": 19,
   "metadata": {
    "ExecuteTime": {
     "end_time": "2020-04-17T23:42:02.458636Z",
     "start_time": "2020-04-17T23:42:02.451539Z"
    }
   },
   "outputs": [],
   "source": [
    "def kfolds(data, k):\n",
    "    \"\"\"return a list of k subsets of data\"\"\"\n",
    "    # Force data as pandas DataFrame\n",
    "    # add 1 to fold size to account for leftovers\n",
    "    \n",
    "    split_size = len(data) // k \n",
    "    split_remainder = len(data) % k\n",
    "    \n",
    "    folds = []\n",
    "    start = 0\n",
    "    end = 0\n",
    "    \n",
    "    for i in range(k):\n",
    "        if split_remainder > 0:\n",
    "            end = start + split_size + 1\n",
    "            split_remainder -= 1\n",
    "        else:\n",
    "            end = start + split_size\n",
    "        folds.append(data[start:end])\n",
    "        start = end\n",
    "    \n",
    "    return folds"
   ]
  },
  {
   "cell_type": "markdown",
   "metadata": {},
   "source": [
    "### Apply it to the Boston Housing data"
   ]
  },
  {
   "cell_type": "code",
   "execution_count": 32,
   "metadata": {
    "ExecuteTime": {
     "end_time": "2020-04-17T23:57:57.012429Z",
     "start_time": "2020-04-17T23:57:56.988656Z"
    },
    "scrolled": true
   },
   "outputs": [
    {
     "data": {
      "text/html": [
       "<div>\n",
       "<style scoped>\n",
       "    .dataframe tbody tr th:only-of-type {\n",
       "        vertical-align: middle;\n",
       "    }\n",
       "\n",
       "    .dataframe tbody tr th {\n",
       "        vertical-align: top;\n",
       "    }\n",
       "\n",
       "    .dataframe thead th {\n",
       "        text-align: right;\n",
       "    }\n",
       "</style>\n",
       "<table border=\"1\" class=\"dataframe\">\n",
       "  <thead>\n",
       "    <tr style=\"text-align: right;\">\n",
       "      <th></th>\n",
       "      <th>CHAS</th>\n",
       "      <th>RM</th>\n",
       "      <th>DIS</th>\n",
       "      <th>B</th>\n",
       "      <th>LSTAT</th>\n",
       "      <th>target</th>\n",
       "    </tr>\n",
       "  </thead>\n",
       "  <tbody>\n",
       "    <tr>\n",
       "      <td>0</td>\n",
       "      <td>0.0</td>\n",
       "      <td>6.575</td>\n",
       "      <td>0.542096</td>\n",
       "      <td>1.000000</td>\n",
       "      <td>-1.275260</td>\n",
       "      <td>24.0</td>\n",
       "    </tr>\n",
       "    <tr>\n",
       "      <td>1</td>\n",
       "      <td>0.0</td>\n",
       "      <td>6.421</td>\n",
       "      <td>0.623954</td>\n",
       "      <td>1.000000</td>\n",
       "      <td>-0.263711</td>\n",
       "      <td>21.6</td>\n",
       "    </tr>\n",
       "    <tr>\n",
       "      <td>2</td>\n",
       "      <td>0.0</td>\n",
       "      <td>7.185</td>\n",
       "      <td>0.623954</td>\n",
       "      <td>0.989737</td>\n",
       "      <td>-1.627858</td>\n",
       "      <td>34.7</td>\n",
       "    </tr>\n",
       "    <tr>\n",
       "      <td>3</td>\n",
       "      <td>0.0</td>\n",
       "      <td>6.998</td>\n",
       "      <td>0.707895</td>\n",
       "      <td>0.994276</td>\n",
       "      <td>-2.153192</td>\n",
       "      <td>33.4</td>\n",
       "    </tr>\n",
       "    <tr>\n",
       "      <td>4</td>\n",
       "      <td>0.0</td>\n",
       "      <td>7.147</td>\n",
       "      <td>0.707895</td>\n",
       "      <td>1.000000</td>\n",
       "      <td>-1.162114</td>\n",
       "      <td>36.2</td>\n",
       "    </tr>\n",
       "    <tr>\n",
       "      <td>...</td>\n",
       "      <td>...</td>\n",
       "      <td>...</td>\n",
       "      <td>...</td>\n",
       "      <td>...</td>\n",
       "      <td>...</td>\n",
       "      <td>...</td>\n",
       "    </tr>\n",
       "    <tr>\n",
       "      <td>501</td>\n",
       "      <td>0.0</td>\n",
       "      <td>6.593</td>\n",
       "      <td>0.331081</td>\n",
       "      <td>0.987619</td>\n",
       "      <td>-0.169811</td>\n",
       "      <td>22.4</td>\n",
       "    </tr>\n",
       "    <tr>\n",
       "      <td>502</td>\n",
       "      <td>0.0</td>\n",
       "      <td>6.120</td>\n",
       "      <td>0.297277</td>\n",
       "      <td>1.000000</td>\n",
       "      <td>-0.274682</td>\n",
       "      <td>20.6</td>\n",
       "    </tr>\n",
       "    <tr>\n",
       "      <td>503</td>\n",
       "      <td>0.0</td>\n",
       "      <td>6.976</td>\n",
       "      <td>0.274575</td>\n",
       "      <td>1.000000</td>\n",
       "      <td>-1.067939</td>\n",
       "      <td>23.9</td>\n",
       "    </tr>\n",
       "    <tr>\n",
       "      <td>504</td>\n",
       "      <td>0.0</td>\n",
       "      <td>6.794</td>\n",
       "      <td>0.315551</td>\n",
       "      <td>0.991301</td>\n",
       "      <td>-0.836660</td>\n",
       "      <td>22.0</td>\n",
       "    </tr>\n",
       "    <tr>\n",
       "      <td>505</td>\n",
       "      <td>0.0</td>\n",
       "      <td>6.030</td>\n",
       "      <td>0.335545</td>\n",
       "      <td>1.000000</td>\n",
       "      <td>-0.510809</td>\n",
       "      <td>11.9</td>\n",
       "    </tr>\n",
       "  </tbody>\n",
       "</table>\n",
       "<p>506 rows × 6 columns</p>\n",
       "</div>"
      ],
      "text/plain": [
       "     CHAS     RM       DIS         B     LSTAT  target\n",
       "0     0.0  6.575  0.542096  1.000000 -1.275260    24.0\n",
       "1     0.0  6.421  0.623954  1.000000 -0.263711    21.6\n",
       "2     0.0  7.185  0.623954  0.989737 -1.627858    34.7\n",
       "3     0.0  6.998  0.707895  0.994276 -2.153192    33.4\n",
       "4     0.0  7.147  0.707895  1.000000 -1.162114    36.2\n",
       "..    ...    ...       ...       ...       ...     ...\n",
       "501   0.0  6.593  0.331081  0.987619 -0.169811    22.4\n",
       "502   0.0  6.120  0.297277  1.000000 -0.274682    20.6\n",
       "503   0.0  6.976  0.274575  1.000000 -1.067939    23.9\n",
       "504   0.0  6.794  0.315551  0.991301 -0.836660    22.0\n",
       "505   0.0  6.030  0.335545  1.000000 -0.510809    11.9\n",
       "\n",
       "[506 rows x 6 columns]"
      ]
     },
     "execution_count": 32,
     "metadata": {},
     "output_type": "execute_result"
    }
   ],
   "source": [
    "# Make sure to concatenate the data again\n",
    "bos_data = pd.concat([boston_features[['CHAS', 'RM', 'DIS', 'B', 'LSTAT']], y], axis=1)\n",
    "bos_data"
   ]
  },
  {
   "cell_type": "code",
   "execution_count": 33,
   "metadata": {
    "ExecuteTime": {
     "end_time": "2020-04-17T23:58:01.557778Z",
     "start_time": "2020-04-17T23:58:01.520070Z"
    },
    "scrolled": false
   },
   "outputs": [
    {
     "data": {
      "text/plain": [
       "[     CHAS     RM       DIS         B     LSTAT  target\n",
       " 0     0.0  6.575  0.542096  1.000000 -1.275260    24.0\n",
       " 1     0.0  6.421  0.623954  1.000000 -0.263711    21.6\n",
       " 2     0.0  7.185  0.623954  0.989737 -1.627858    34.7\n",
       " 3     0.0  6.998  0.707895  0.994276 -2.153192    33.4\n",
       " 4     0.0  7.147  0.707895  1.000000 -1.162114    36.2\n",
       " ..    ...    ...       ...       ...       ...     ...\n",
       " 97    0.0  8.069  0.475885  1.000000 -1.555067    38.7\n",
       " 98    0.0  7.820  0.475885  0.991502 -1.829759    43.8\n",
       " 99    0.0  7.416  0.475885  1.000000 -0.912931    33.2\n",
       " 100   0.0  6.727  0.379096  0.994604 -0.213444    27.5\n",
       " 101   0.0  6.781  0.390808  0.996672 -0.555806    26.5\n",
       " \n",
       " [102 rows x 6 columns],      CHAS     RM       DIS         B     LSTAT  target\n",
       " 102   0.0  6.405  0.369415  0.177720 -0.012136    18.6\n",
       " 103   0.0  6.137  0.369415  0.993873  0.378596    19.3\n",
       " 104   0.0  6.167  0.321174  0.989384  0.235000    20.1\n",
       " 105   0.0  5.851  0.262627  0.992814  0.717270    19.5\n",
       " 106   0.0  5.836  0.282946  0.996898  0.925237    19.5\n",
       " ..    ...    ...       ...       ...       ...     ...\n",
       " 198   0.0  7.274  0.786695  0.988149 -0.801053    34.6\n",
       " 199   0.0  6.975  0.806093  1.000000 -1.422033    34.9\n",
       " 200   0.0  7.135  0.806093  0.968228 -1.462710    32.9\n",
       " 201   0.0  6.162  0.722095  0.992108 -0.608764    24.1\n",
       " 202   0.0  7.610  0.722095  0.996167 -2.059550    42.3\n",
       " \n",
       " [101 rows x 6 columns],      CHAS     RM       DIS         B     LSTAT  target\n",
       " 203   0.0  7.853  0.636563  0.989611 -1.721374    48.5\n",
       " 204   0.0  8.034  0.636563  0.983988 -2.187541    50.0\n",
       " 205   0.0  5.891  0.526931  1.000000  0.025057    22.6\n",
       " 206   0.0  6.326  0.568536  0.994881  0.040312    24.4\n",
       " 207   0.0  5.783  0.568536  0.981164  0.870793    22.5\n",
       " ..    ...    ...       ...       ...       ...     ...\n",
       " 299   0.0  7.041  0.815586  0.936154 -1.357541    29.0\n",
       " 300   0.0  6.871  0.815586  0.984770 -0.945542    24.8\n",
       " 301   0.0  6.590  0.666254  0.997100 -0.199357    22.0\n",
       " 302   0.0  6.495  0.666254  0.966488 -0.351653    26.4\n",
       " 303   0.0  6.982  0.666254  0.983686 -1.315893    33.1\n",
       " \n",
       " [101 rows x 6 columns],      CHAS     RM       DIS         B     LSTAT  target\n",
       " 304   0.0  7.236  0.535033  0.991881 -0.724816    36.1\n",
       " 305   0.0  6.616  0.460516  0.991074 -0.302431    28.4\n",
       " 306   0.0  7.420  0.425223  1.000000 -0.839233    33.4\n",
       " 307   0.0  6.849  0.436424  1.000000 -0.586493    28.2\n",
       " 308   0.0  6.635  0.453901  1.000000 -1.429355    22.8\n",
       " ..    ...    ...       ...       ...       ...     ...\n",
       " 400   0.0  5.987  0.143717  1.000000  1.526438     5.6\n",
       " 401   0.0  6.343  0.139800  1.000000  1.067205     7.2\n",
       " 402   0.0  6.404  0.156822  0.947577  1.066385    12.1\n",
       " 403   0.0  5.349  0.172911  1.000000  1.021495     8.3\n",
       " 404   0.0  5.531  0.148620  0.829946  1.563971     8.5\n",
       " \n",
       " [101 rows x 6 columns],      CHAS     RM       DIS         B     LSTAT  target\n",
       " 405   0.0  5.683  0.097993  0.969918  1.272135     5.0\n",
       " 406   0.0  4.138  0.017712  0.932725  1.298029    11.9\n",
       " 407   0.0  5.608  0.054371  0.836578  0.207758    27.9\n",
       " 408   0.0  5.617  0.106565  0.792577  1.503253    17.2\n",
       " 409   0.0  6.852  0.109682  0.451460  1.022337    27.5\n",
       " ..    ...    ...       ...       ...       ...     ...\n",
       " 501   0.0  6.593  0.331081  0.987619 -0.169811    22.4\n",
       " 502   0.0  6.120  0.297277  1.000000 -0.274682    20.6\n",
       " 503   0.0  6.976  0.274575  1.000000 -1.067939    23.9\n",
       " 504   0.0  6.794  0.315551  0.991301 -0.836660    22.0\n",
       " 505   0.0  6.030  0.335545  1.000000 -0.510809    11.9\n",
       " \n",
       " [101 rows x 6 columns]]"
      ]
     },
     "execution_count": 33,
     "metadata": {},
     "output_type": "execute_result"
    }
   ],
   "source": [
    "# Apply kfolds() to bos_data with 5 folds\n",
    "folds = kfolds(bos_data, 5)\n",
    "folds"
   ]
  },
  {
   "cell_type": "markdown",
   "metadata": {},
   "source": [
    "### Perform a linear regression for each fold and calculate the training and test error"
   ]
  },
  {
   "cell_type": "markdown",
   "metadata": {},
   "source": [
    "Perform linear regression on each and calculate the training and test error: "
   ]
  },
  {
   "cell_type": "code",
   "execution_count": 56,
   "metadata": {
    "ExecuteTime": {
     "end_time": "2020-04-18T00:30:22.717851Z",
     "start_time": "2020-04-18T00:30:22.653326Z"
    }
   },
   "outputs": [
    {
     "name": "stdout",
     "output_type": "stream",
     "text": [
      "404\n",
      "405\n",
      "405\n",
      "405\n",
      "405\n",
      "[24.195577370388623, 23.032087348477972, 19.745072857978982, 15.31710138425119, 22.32997280754659]\n",
      "\n",
      "[13.405144922008196, 17.44401680068205, 37.032711390020715, 58.279543847842305, 26.0979887571484]\n",
      "\n",
      "Mean train error 20.923962353728673\n",
      "Mean test error 30.451881143540334\n"
     ]
    }
   ],
   "source": [
    "test_errs = []\n",
    "train_errs = []\n",
    "k=5\n",
    "\n",
    "for n in range(k):\n",
    "    # Split in train and test for the fold\n",
    "#     train = pd.concat(folds[:n-1] + folds[n+1:])\n",
    "    train = pd.concat([fold for i, fold in enumerate(folds) if i!=n])\n",
    "    print(len(train))\n",
    "    test = folds[n]\n",
    "    # Fit a linear regression model\n",
    "    linreg = LinearRegression()\n",
    "    linreg.fit(train[['CHAS', 'RM', 'DIS', 'B', 'LSTAT']], train['target'])\n",
    "    y_hat_train = linreg.predict(train[['CHAS', 'RM', 'DIS', 'B', 'LSTAT']])\n",
    "    y_hat_test = linreg.predict(test[['CHAS', 'RM', 'DIS', 'B', 'LSTAT']])\n",
    "    # Evaluate Train and Test errors\n",
    "    train_mse = mean_squared_error(train['target'], y_hat_train)\n",
    "    test_mse = mean_squared_error(test['target'], y_hat_test)\n",
    "    train_errs.append(train_mse)\n",
    "    test_errs.append(test_mse)\n",
    "\n",
    "print(train_errs)\n",
    "print('')\n",
    "print(test_errs)\n",
    "print('')\n",
    "print(f'Mean train error {sum(train_errs) / len(train_errs)}')\n",
    "print(f'Mean test error {sum(test_errs) / len(test_errs)}')"
   ]
  },
  {
   "cell_type": "markdown",
   "metadata": {},
   "source": [
    "## Cross-Validation using Scikit-Learn"
   ]
  },
  {
   "cell_type": "markdown",
   "metadata": {},
   "source": [
    "This was a bit of work! Now, let's perform 5-fold cross-validation to get the mean squared error through scikit-learn. Let's have a look at the five individual MSEs and explain what's going on."
   ]
  },
  {
   "cell_type": "code",
   "execution_count": 44,
   "metadata": {
    "ExecuteTime": {
     "end_time": "2020-04-18T00:17:35.008510Z",
     "start_time": "2020-04-18T00:17:35.005014Z"
    }
   },
   "outputs": [],
   "source": [
    "from sklearn.model_selection import cross_val_score"
   ]
  },
  {
   "cell_type": "code",
   "execution_count": 47,
   "metadata": {
    "ExecuteTime": {
     "end_time": "2020-04-18T00:20:19.793764Z",
     "start_time": "2020-04-18T00:20:19.750722Z"
    }
   },
   "outputs": [],
   "source": [
    "linreg = LinearRegression()\n",
    "\n",
    "cv_5_results = cross_val_score(linreg, X, y, cv=5, scoring='neg_mean_squared_error')"
   ]
  },
  {
   "cell_type": "code",
   "execution_count": 48,
   "metadata": {
    "ExecuteTime": {
     "end_time": "2020-04-18T00:20:20.280943Z",
     "start_time": "2020-04-18T00:20:20.274331Z"
    }
   },
   "outputs": [
    {
     "data": {
      "text/plain": [
       "array([-13.40514492, -17.4440168 , -37.03271139, -58.27954385,\n",
       "       -26.09798876])"
      ]
     },
     "execution_count": 48,
     "metadata": {},
     "output_type": "execute_result"
    }
   ],
   "source": [
    "cv_5_results"
   ]
  },
  {
   "cell_type": "markdown",
   "metadata": {},
   "source": [
    "Next, calculate the mean of the MSE over the 5 cross-validation and compare and contrast with the result from the train-test split case."
   ]
  },
  {
   "cell_type": "code",
   "execution_count": 50,
   "metadata": {
    "ExecuteTime": {
     "end_time": "2020-04-18T00:21:09.220981Z",
     "start_time": "2020-04-18T00:21:09.215816Z"
    }
   },
   "outputs": [
    {
     "data": {
      "text/plain": [
       "-30.451881143540316"
      ]
     },
     "execution_count": 50,
     "metadata": {},
     "output_type": "execute_result"
    }
   ],
   "source": [
    "np.mean(cv_5_results)"
   ]
  },
  {
   "cell_type": "code",
   "execution_count": 51,
   "metadata": {
    "ExecuteTime": {
     "end_time": "2020-04-18T00:24:53.896020Z",
     "start_time": "2020-04-18T00:24:53.892740Z"
    }
   },
   "outputs": [],
   "source": [
    "from sklearn.metrics import  make_scorer"
   ]
  },
  {
   "cell_type": "code",
   "execution_count": 52,
   "metadata": {
    "ExecuteTime": {
     "end_time": "2020-04-18T00:25:01.455866Z",
     "start_time": "2020-04-18T00:25:01.452514Z"
    }
   },
   "outputs": [],
   "source": [
    "mse = make_scorer(mean_squared_error)"
   ]
  },
  {
   "cell_type": "code",
   "execution_count": 53,
   "metadata": {
    "ExecuteTime": {
     "end_time": "2020-04-18T00:25:33.416423Z",
     "start_time": "2020-04-18T00:25:33.369947Z"
    }
   },
   "outputs": [
    {
     "data": {
      "text/plain": [
       "array([13.40514492, 17.4440168 , 37.03271139, 58.27954385, 26.09798876])"
      ]
     },
     "execution_count": 53,
     "metadata": {},
     "output_type": "execute_result"
    }
   ],
   "source": [
    "cv_5_results = cross_val_score(linreg, X, y, cv=5, scoring=mse)\n",
    "cv_5_results"
   ]
  },
  {
   "cell_type": "code",
   "execution_count": null,
   "metadata": {},
   "outputs": [],
   "source": []
  },
  {
   "cell_type": "markdown",
   "metadata": {},
   "source": [
    "##  Summary "
   ]
  },
  {
   "cell_type": "code",
   "execution_count": null,
   "metadata": {},
   "outputs": [],
   "source": [
    "# the MSE for the test data matches the MSE returned from cross_val_score\n",
    "# the model seems to be overfitted given the large difference in the MSE of\n",
    "# the training and testing data sets"
   ]
  },
  {
   "cell_type": "code",
   "execution_count": 57,
   "metadata": {
    "ExecuteTime": {
     "end_time": "2020-04-18T00:33:44.448967Z",
     "start_time": "2020-04-18T00:33:44.438240Z"
    }
   },
   "outputs": [],
   "source": [
    "def do_some_mse(folds, k):\n",
    "    test_errs = []\n",
    "    train_errs = []\n",
    "\n",
    "    for n in range(k):\n",
    "        # Split in train and test for the fold\n",
    "        train = pd.concat([fold for i, fold in enumerate(folds) if i!=n])\n",
    "        print(len(train))\n",
    "        test = folds[n]\n",
    "        # Fit a linear regression model\n",
    "        linreg = LinearRegression()\n",
    "        linreg.fit(train[['CHAS', 'RM', 'DIS', 'B', 'LSTAT']], train['target'])\n",
    "        y_hat_train = linreg.predict(train[['CHAS', 'RM', 'DIS', 'B', 'LSTAT']])\n",
    "        y_hat_test = linreg.predict(test[['CHAS', 'RM', 'DIS', 'B', 'LSTAT']])\n",
    "        # Evaluate Train and Test errors\n",
    "        train_mse = mean_squared_error(train['target'], y_hat_train)\n",
    "        test_mse = mean_squared_error(test['target'], y_hat_test)\n",
    "        train_errs.append(train_mse)\n",
    "        test_errs.append(test_mse)\n",
    "\n",
    "    print(train_errs)\n",
    "    print('')\n",
    "    print(test_errs)\n",
    "    print('')\n",
    "    print(f'Mean train error {sum(train_errs) / len(train_errs)}')\n",
    "    print(f'Mean test error {sum(test_errs) / len(test_errs)}')"
   ]
  },
  {
   "cell_type": "code",
   "execution_count": 64,
   "metadata": {
    "ExecuteTime": {
     "end_time": "2020-04-18T00:37:25.157158Z",
     "start_time": "2020-04-18T00:37:25.036273Z"
    }
   },
   "outputs": [
    {
     "name": "stdout",
     "output_type": "stream",
     "text": [
      "455\n",
      "455\n",
      "455\n",
      "455\n",
      "455\n",
      "455\n",
      "456\n",
      "456\n",
      "456\n",
      "456\n",
      "[22.51122149418271, 23.202722295231602, 23.289877373894324, 21.007886892783375, 21.543949013789277, 20.79416802207609, 22.63496660317758, 14.364781188711396, 21.808532036098836, 22.3289304131356]\n",
      "\n",
      "[16.040807304777815, 8.619850025204325, 7.642480778773643, 30.60501978620501, 24.769440093599933, 34.78710530085539, 15.12978545918736, 115.22917884713405, 29.59922657376474, 16.342060450546533]\n",
      "\n",
      "Mean train error 21.348703533308075\n",
      "Mean test error 29.87649546200488\n"
     ]
    }
   ],
   "source": [
    "do_some_mse(kfolds(bos_data, 10), 10)"
   ]
  },
  {
   "cell_type": "markdown",
   "metadata": {},
   "source": [
    "Congratulations! You are now familiar with cross-validation and know how to use `cross_val_score()`. Remember that the results obtained from cross-validation are robust and always use it whenever possible! "
   ]
  }
 ],
 "metadata": {
  "kernelspec": {
   "display_name": "learn-env",
   "language": "python",
   "name": "learn-env"
  },
  "language_info": {
   "codemirror_mode": {
    "name": "ipython",
    "version": 3
   },
   "file_extension": ".py",
   "mimetype": "text/x-python",
   "name": "python",
   "nbconvert_exporter": "python",
   "pygments_lexer": "ipython3",
   "version": "3.6.9"
  },
  "toc": {
   "base_numbering": 1,
   "nav_menu": {},
   "number_sections": true,
   "sideBar": true,
   "skip_h1_title": false,
   "title_cell": "Table of Contents",
   "title_sidebar": "Contents",
   "toc_cell": false,
   "toc_position": {},
   "toc_section_display": true,
   "toc_window_display": false
  },
  "varInspector": {
   "cols": {
    "lenName": 16,
    "lenType": 16,
    "lenVar": 40
   },
   "kernels_config": {
    "python": {
     "delete_cmd_postfix": "",
     "delete_cmd_prefix": "del ",
     "library": "var_list.py",
     "varRefreshCmd": "print(var_dic_list())"
    },
    "r": {
     "delete_cmd_postfix": ") ",
     "delete_cmd_prefix": "rm(",
     "library": "var_list.r",
     "varRefreshCmd": "cat(var_dic_list()) "
    }
   },
   "types_to_exclude": [
    "module",
    "function",
    "builtin_function_or_method",
    "instance",
    "_Feature"
   ],
   "window_display": false
  }
 },
 "nbformat": 4,
 "nbformat_minor": 2
}
